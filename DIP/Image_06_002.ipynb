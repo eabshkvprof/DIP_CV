{
 "cells": [
  {
   "cell_type": "markdown",
   "metadata": {},
   "source": [
    "# РОБОТА із ЗОБРАЖЕННЯМИ \n",
    "## Файл: Image_06_002\n",
    "## Морфологічні перетворення. Обчислення характеристик (площа, центр тяжиння)"
   ]
  },
  {
   "cell_type": "code",
   "execution_count": 1,
   "metadata": {},
   "outputs": [],
   "source": [
    "## Завантаження пакетів\n",
    "import numpy as np\n",
    "import matplotlib.pyplot as plt\n",
    "import skimage.io as io\n",
    "plt.rcParams['font.size'] = 10"
   ]
  },
  {
   "cell_type": "code",
   "execution_count": 2,
   "metadata": {},
   "outputs": [],
   "source": [
    "# Визначення та друк параметрів зображення\n",
    "def image_data (image):\n",
    "    rank     = len(image.shape)\n",
    "    rows_num = image.shape[0] ## кількість рядків\n",
    "    clms_num = image.shape[1] ## кількість колонок\n",
    "    chen_num = 1\n",
    "    if rank == 3: \n",
    "        chen_num = image.shape[2] ## кількість каналів\n",
    "    print('Опис зображення ')\n",
    "    print('IMAGE RANK',  rank)\n",
    "    print('IMAGE SHAPE', image.shape)\n",
    "    print('DATA Type',   image.dtype)\n",
    "    return rows_num,clms_num, chen_num"
   ]
  },
  {
   "cell_type": "code",
   "execution_count": 3,
   "metadata": {},
   "outputs": [],
   "source": [
    "# Відобрадження обраного зображення\n",
    "def image1_view (image, image_name):\n",
    "    fig, ax = plt.subplots(figsize=(4, 4))\n",
    "    plt.title(image_name)\n",
    "    plt.imshow(image)\n",
    "    plt.show()\n",
    "    return "
   ]
  },
  {
   "cell_type": "code",
   "execution_count": 4,
   "metadata": {},
   "outputs": [],
   "source": [
    "# Відобрадження двох зображень длчя порівняння\n",
    "def image2_view (image1, image2, image1_name, image2_name):\n",
    "    fig, axes = plt.subplots(1, 2, figsize=(8, 4))\n",
    "    ax = axes.ravel()\n",
    "    ax[0].set_title(image1_name)\n",
    "    ax[0].imshow(image1)\n",
    "    ax[1].set_title(image2_name)\n",
    "    ax[1].imshow(image2)\n",
    "    plt.show()\n",
    "    return"
   ]
  },
  {
   "cell_type": "markdown",
   "metadata": {},
   "source": [
    "#### Загальна площа зображення"
   ]
  },
  {
   "cell_type": "code",
   "execution_count": 5,
   "metadata": {},
   "outputs": [
    {
     "name": "stdout",
     "output_type": "stream",
     "text": [
      "Опис зображення \n",
      "IMAGE RANK 3\n",
      "IMAGE SHAPE (200, 200, 3)\n",
      "DATA Type uint8\n"
     ]
    },
    {
     "data": {
      "image/png": "[encoded data removed]",
      "text/plain": [
       "<Figure size 400x400 with 1 Axes>"
      ]
     },
     "metadata": {},
     "output_type": "display_data"
    }
   ],
   "source": [
    "## Завантаження файлу зображення\n",
    "filename1 = 'Morfo_BW_1.jpg' \n",
    "path = './IMAGES/'\n",
    "test_im = io.imread(path+filename1)\n",
    "\n",
    "## Визначення стркутури та розміру зображення\n",
    "rows_num, clms_num, chan = image_data (test_im)\n",
    "\n",
    "# Робимо виключно BW зображення\n",
    "test_im_ = np.full ((rows_num, clms_num, 3), (0, 0, 0) , dtype=np.uint8) \n",
    "\n",
    "for i in  range (rows_num):\n",
    "    for j in  range (clms_num):\n",
    "        if test_im [i, j, 0] > 126 : test_im_ [i, j, :] = [255,255,255]\n",
    "      \n",
    "# Відобрадження обраного зображення\n",
    "image1_view (test_im, 'Тестове зображення')"
   ]
  },
  {
   "cell_type": "markdown",
   "metadata": {},
   "source": [
    "#### Площаь \"білої\" то \"чорної\" частин зображення"
   ]
  },
  {
   "cell_type": "code",
   "execution_count": 6,
   "metadata": {},
   "outputs": [
    {
     "name": "stdout",
     "output_type": "stream",
     "text": [
      "Площа обєкту 7070\n",
      "Площа фону 32930\n",
      "Загальна площа 40000\n",
      "Відносна площа 0.17675\n"
     ]
    }
   ],
   "source": [
    "Square_White = 0\n",
    "Square_Black = 0\n",
    "\n",
    "for i in  range (rows_num):\n",
    "    for j in  range (clms_num):\n",
    "        if test_im_ [i, j, 0] == 255: Square_White += 1\n",
    "        if test_im_ [i, j, 0] == 0:   Square_Black += 1\n",
    "            \n",
    "print ('Площа обєкту', Square_White)\n",
    "print ('Площа фону', Square_Black)\n",
    "print ('Загальна площа', Square_Black+Square_White)\n",
    "sq_rwl = Square_White /(rows_num*clms_num)\n",
    "print ('Відносна площа',sq_rwl )\n"
   ]
  },
  {
   "cell_type": "markdown",
   "metadata": {},
   "source": [
    "#### Завантаження файлу: область = ЕЛІПС\n",
    "#### Розмір зображення 500 px X 500 px\n",
    "#### Розмір еліпсу  300 px X 200 px\n",
    "#### Центр еліпсу: Xc = 200; Yc = 250 "
   ]
  },
  {
   "cell_type": "code",
   "execution_count": 7,
   "metadata": {},
   "outputs": [
    {
     "name": "stdout",
     "output_type": "stream",
     "text": [
      "Опис зображення \n",
      "IMAGE RANK 3\n",
      "IMAGE SHAPE (500, 500, 3)\n",
      "DATA Type uint8\n"
     ]
    },
    {
     "data": {
      "image/png": "[encoded data removed]",
      "text/plain": [
       "<Figure size 400x400 with 1 Axes>"
      ]
     },
     "metadata": {},
     "output_type": "display_data"
    }
   ],
   "source": [
    "## Завантаження файлу зображення для розрахунку центра тяжиння\n",
    "filename2 = 'Geom_Test_1.png' \n",
    "path = './IMAGES/'\n",
    "stest_im  = io.imread(path+filename2)\n",
    "\n",
    "## Визначення стркутури та розміру зображення\n",
    "srows_num, sclms_num, chan = image_data (stest_im)\n",
    "\n",
    "# Перетворюємо до BW зображення\n",
    "stest_im_ = np.full ((srows_num, sclms_num, 3), (0, 0, 0) , dtype=np.uint8) \n",
    "\n",
    "for i in  range (srows_num):\n",
    "    for j in  range (sclms_num):\n",
    "        if stest_im [i, j, 0] > 126 : stest_im_ [i, j, :] = [255,255,255]\n",
    "\n",
    "# Відобрадження обраного зображення\n",
    "image1_view (stest_im_, 'Еліпс тест')"
   ]
  },
  {
   "cell_type": "markdown",
   "metadata": {},
   "source": [
    "#### Площаь \"білої\" то \"чорної\" частин зображення"
   ]
  },
  {
   "cell_type": "code",
   "execution_count": 8,
   "metadata": {},
   "outputs": [
    {
     "name": "stdout",
     "output_type": "stream",
     "text": [
      "Площа області 47364\n",
      "Площа фонау 202636\n",
      "Загальна площа 250000\n"
     ]
    }
   ],
   "source": [
    "# Вычисляем площадь эллипса\n",
    "Square_White = 0\n",
    "Square_Black = 0\n",
    "\n",
    "for i in  range (srows_num):\n",
    "    for j in  range (sclms_num):\n",
    "        if stest_im_ [i, j, 0] == 255: Square_White += 1\n",
    "        if stest_im_ [i, j, 0] == 0:   Square_Black += 1\n",
    "            \n",
    "print ('Площа області', Square_White)\n",
    "print ('Площа фонау', Square_Black)\n",
    "print ('Загальна площа', Square_Black+Square_White)"
   ]
  },
  {
   "cell_type": "markdown",
   "metadata": {},
   "source": [
    "#### Центр тяжиння"
   ]
  },
  {
   "cell_type": "code",
   "execution_count": 9,
   "metadata": {},
   "outputs": [
    {
     "name": "stdout",
     "output_type": "stream",
     "text": [
      "Центр тяжести: Координата X: 199.5 Координата Y: 249.5\n"
     ]
    }
   ],
   "source": [
    "scentr_y = 0 \n",
    "scentr_x = 0 \n",
    "\n",
    "for i in  range (srows_num):\n",
    "    for j in  range (sclms_num):\n",
    "        if stest_im_ [i, j, 0] == 255 : scentr_y += j \n",
    "        if stest_im_ [i, j, 0] == 255 : scentr_x += i \n",
    "           \n",
    "sentr_y = scentr_y / Square_White     \n",
    "sentr_x = scentr_x / Square_White     \n",
    "       \n",
    "print ('Центр тяжести: Координата X:', sentr_x, 'Координата Y:',sentr_y)"
   ]
  },
  {
   "cell_type": "markdown",
   "metadata": {},
   "source": [
    "#### Завантаження зображення: довільна однозвязна область\n",
    "#### Размір зображення 500 px X 500 px"
   ]
  },
  {
   "cell_type": "code",
   "execution_count": 10,
   "metadata": {},
   "outputs": [
    {
     "name": "stdout",
     "output_type": "stream",
     "text": [
      "Опис зображення \n",
      "IMAGE RANK 3\n",
      "IMAGE SHAPE (500, 500, 3)\n",
      "DATA Type uint8\n"
     ]
    },
    {
     "data": {
      "image/png": "[encoded data removed]",
      "text/plain": [
       "<Figure size 400x400 with 1 Axes>"
      ]
     },
     "metadata": {},
     "output_type": "display_data"
    }
   ],
   "source": [
    "## Завантаження файлу зображення ДЛЯ РАСЧЕТА ЦЕНТРА ТЯЖЕСТИ\n",
    "filename3 = 'Geom_Test_3.png' \n",
    "path = './IMAGES/'\n",
    "sstest_im = io.imread(path + filename3)\n",
    "\n",
    "ssrows_num, ssclms_num, chan = image_data (sstest_im) \n",
    "\n",
    "# Перетворюємо до BW зображення\n",
    "sstest_im_ = np.full ((ssrows_num, ssclms_num, 3), (0, 0, 0) , dtype=np.uint8) \n",
    "\n",
    "for i in  range (ssrows_num):\n",
    "    for j in  range (ssclms_num):\n",
    "        if sstest_im [i, j, 0] > 126 : sstest_im_ [i, j, :] = [255,255,255]\n",
    "\n",
    "# Відобрадження обраного зображення\n",
    "image1_view (sstest_im_, 'Довільни обєкт')"
   ]
  },
  {
   "cell_type": "markdown",
   "metadata": {},
   "source": [
    "#### Площаь \"білої\" то \"чорної\" частин зображення"
   ]
  },
  {
   "cell_type": "code",
   "execution_count": 11,
   "metadata": {},
   "outputs": [
    {
     "name": "stdout",
     "output_type": "stream",
     "text": [
      "Площа області 66801\n",
      "Площа фону 183199\n",
      "Загальн площа 250000\n"
     ]
    }
   ],
   "source": [
    "# Обчислюємо площу\n",
    "Square_White = 0\n",
    "Square_Black = 0\n",
    "\n",
    "for i in  range (ssrows_num):\n",
    "    for j in  range (ssclms_num):\n",
    "        if sstest_im_ [i, j, 0] == 255: Square_White += 1\n",
    "        if sstest_im_ [i, j, 0] == 0:   Square_Black += 1\n",
    "            \n",
    "print ('Площа області', Square_White)\n",
    "print ('Площа фону', Square_Black)\n",
    "print ('Загальн площа', Square_Black+Square_White)"
   ]
  },
  {
   "cell_type": "markdown",
   "metadata": {},
   "source": [
    "#### Центр тяжиння"
   ]
  },
  {
   "cell_type": "code",
   "execution_count": 12,
   "metadata": {},
   "outputs": [
    {
     "name": "stdout",
     "output_type": "stream",
     "text": [
      "Центр тяжиння: Координата X: 225 Координата Y: 247\n"
     ]
    }
   ],
   "source": [
    "scentr_y = 0\n",
    "scentr_x = 0 \n",
    "\n",
    "for i in  range (ssrows_num):\n",
    "    for j in  range (ssclms_num):\n",
    "        if sstest_im_ [i, j, 0] == 255 : scentr_y += j \n",
    "        if sstest_im_ [i, j, 0] == 255 : scentr_x += i \n",
    "\n",
    "            \n",
    "sentr_y = np.int32(scentr_y / Square_White )    \n",
    "sentr_x = np.int32(scentr_x / Square_White )    \n",
    "       \n",
    "print ('Центр тяжиння: Координата X:', sentr_x, 'Координата Y:',sentr_y)"
   ]
  },
  {
   "cell_type": "code",
   "execution_count": 13,
   "metadata": {},
   "outputs": [
    {
     "data": {
      "image/png": "[encoded data removed]",
      "text/plain": [
       "<Figure size 400x400 with 1 Axes>"
      ]
     },
     "metadata": {},
     "output_type": "display_data"
    }
   ],
   "source": [
    "sstest_im_[sentr_x:sentr_x+2, sentr_y:sentr_y+2,:] = [255,0,0]\n",
    "# Відобрадження обраного зображення\n",
    "image1_view (sstest_im_, 'Центр')"
   ]
  },
  {
   "cell_type": "code",
   "execution_count": null,
   "metadata": {},
   "outputs": [],
   "source": []
  }
 ],
 "metadata": {
  "kernelspec": {
   "display_name": "Python 3 (ipykernel)",
   "language": "python",
   "name": "python3"
  },
  "language_info": {
   "codemirror_mode": {
    "name": "ipython",
    "version": 3
   },
   "file_extension": ".py",
   "mimetype": "text/x-python",
   "name": "python",
   "nbconvert_exporter": "python",
   "pygments_lexer": "ipython3",
   "version": "3.12.5"
  }
 },
 "nbformat": 4,
 "nbformat_minor": 4
}
